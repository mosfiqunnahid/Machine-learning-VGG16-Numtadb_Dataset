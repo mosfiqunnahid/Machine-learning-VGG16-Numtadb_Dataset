{
  "nbformat": 4,
  "nbformat_minor": 0,
  "metadata": {
    "colab": {
      "name": "VGG16-Numtadb_Dataset.ipynb",
      "provenance": []
    },
    "kernelspec": {
      "name": "python3",
      "display_name": "Python 3"
    },
    "accelerator": "GPU"
  },
  "cells": [
    {
      "cell_type": "code",
      "metadata": {
        "id": "jwbA6f96rK1Q",
        "colab_type": "code",
        "colab": {}
      },
      "source": [
        "import cv2\n",
        "import keras\n",
        "import numpy as np\n",
        "import pandas as pd\n",
        "from keras import Sequential\n",
        "from keras.layers import Dense\n",
        "import matplotlib.pyplot as plt\n",
        "from keras.models import Sequential\n",
        "from keras.optimizers import Adam, SGD\n",
        "from keras.utils import to_categorical\n",
        "from sklearn.model_selection import train_test_split\n",
        "from keras.preprocessing.image import ImageDataGenerator\n",
        "from keras.layers import Conv2D, MaxPooling2D, Flatten, Dropout, Dense, ZeroPadding2D, BatchNormalization"
      ],
      "execution_count": null,
      "outputs": []
    },
    {
      "cell_type": "code",
      "metadata": {
        "id": "Y14tFflCrQBb",
        "colab_type": "code",
        "colab": {}
      },
      "source": [
        "x = np.load('/content/drive/My Drive/LICT training/Mosfiqun Nahid Hassan/Preprocessing_Data( Jupyter)/numta64allx.npy')/255.0\n",
        "y = np.load('/content/drive/My Drive/LICT training/Mosfiqun Nahid Hassan/Preprocessing_Data( Jupyter)/numta64ally.npy')"
      ],
      "execution_count": null,
      "outputs": []
    },
    {
      "cell_type": "code",
      "metadata": {
        "id": "HtNmfFyDrP-t",
        "colab_type": "code",
        "colab": {
          "base_uri": "https://localhost:8080/",
          "height": 34
        },
        "outputId": "cc6cea18-6dd9-4ce9-cbfe-23147caecec0"
      },
      "source": [
        "x.shape"
      ],
      "execution_count": null,
      "outputs": [
        {
          "output_type": "execute_result",
          "data": {
            "text/plain": [
              "(72045, 64, 64)"
            ]
          },
          "metadata": {
            "tags": []
          },
          "execution_count": 5
        }
      ]
    },
    {
      "cell_type": "code",
      "metadata": {
        "id": "SttOrk2wrP8G",
        "colab_type": "code",
        "colab": {}
      },
      "source": [
        "x = x.reshape(-1,64,64,1)\n",
        "y = to_categorical(y)"
      ],
      "execution_count": null,
      "outputs": []
    },
    {
      "cell_type": "code",
      "metadata": {
        "id": "sREqPmXarP5a",
        "colab_type": "code",
        "colab": {
          "base_uri": "https://localhost:8080/",
          "height": 34
        },
        "outputId": "22c18595-b4b3-45ec-c43b-f383ea264177"
      },
      "source": [
        "x.shape"
      ],
      "execution_count": null,
      "outputs": [
        {
          "output_type": "execute_result",
          "data": {
            "text/plain": [
              "(72045, 64, 64, 1)"
            ]
          },
          "metadata": {
            "tags": []
          },
          "execution_count": 7
        }
      ]
    },
    {
      "cell_type": "code",
      "metadata": {
        "id": "Vzds7_kbrP21",
        "colab_type": "code",
        "colab": {
          "base_uri": "https://localhost:8080/",
          "height": 34
        },
        "outputId": "27c9690a-f6da-4c62-8058-8917c6194f38"
      },
      "source": [
        "y.shape"
      ],
      "execution_count": null,
      "outputs": [
        {
          "output_type": "execute_result",
          "data": {
            "text/plain": [
              "(72045, 10)"
            ]
          },
          "metadata": {
            "tags": []
          },
          "execution_count": 8
        }
      ]
    },
    {
      "cell_type": "code",
      "metadata": {
        "id": "5XEA0F6trP12",
        "colab_type": "code",
        "colab": {}
      },
      "source": [
        "model = Sequential()\n",
        "\n",
        "model.add(Conv2D(64, (3, 3),padding='same', activation='relu', input_shape=(64, 64,1)))\n",
        "model.add(MaxPooling2D((2, 2)))\n",
        "model.add(Conv2D(128,(3,3),padding='same', activation='relu'))\n",
        "model.add(MaxPooling2D((2, 2)))\n",
        "model.add(Conv2D(256,(3,3),padding='same', activation='relu'))\n",
        "model.add(MaxPooling2D((2, 2)))\n",
        "model.add(Conv2D(512,(3,3),padding='same', activation='relu'))\n",
        "model.add(MaxPooling2D((2, 2)))\n",
        "model.add(Conv2D(512,(3,3),padding='same', activation='relu'))\n",
        "model.add(MaxPooling2D((2, 2)))\n",
        "model.add(Flatten())\n",
        "model.add(Dense(4096, activation='relu'))\n",
        "model.add(Dense(10, activation='softmax'))\n",
        "model.compile(optimizer='adam', loss='categorical_crossentropy', metrics=['accuracy'])"
      ],
      "execution_count": null,
      "outputs": []
    },
    {
      "cell_type": "code",
      "metadata": {
        "id": "wE8On9GprPzW",
        "colab_type": "code",
        "colab": {
          "base_uri": "https://localhost:8080/",
          "height": 595
        },
        "outputId": "2eb15747-a717-4fe4-b6a0-e69f2a76aca4"
      },
      "source": [
        "model.summary()"
      ],
      "execution_count": null,
      "outputs": [
        {
          "output_type": "stream",
          "text": [
            "Model: \"sequential_1\"\n",
            "_________________________________________________________________\n",
            "Layer (type)                 Output Shape              Param #   \n",
            "=================================================================\n",
            "conv2d_1 (Conv2D)            (None, 64, 64, 64)        640       \n",
            "_________________________________________________________________\n",
            "max_pooling2d_1 (MaxPooling2 (None, 32, 32, 64)        0         \n",
            "_________________________________________________________________\n",
            "conv2d_2 (Conv2D)            (None, 32, 32, 128)       73856     \n",
            "_________________________________________________________________\n",
            "max_pooling2d_2 (MaxPooling2 (None, 16, 16, 128)       0         \n",
            "_________________________________________________________________\n",
            "conv2d_3 (Conv2D)            (None, 16, 16, 256)       295168    \n",
            "_________________________________________________________________\n",
            "max_pooling2d_3 (MaxPooling2 (None, 8, 8, 256)         0         \n",
            "_________________________________________________________________\n",
            "conv2d_4 (Conv2D)            (None, 8, 8, 512)         1180160   \n",
            "_________________________________________________________________\n",
            "max_pooling2d_4 (MaxPooling2 (None, 4, 4, 512)         0         \n",
            "_________________________________________________________________\n",
            "conv2d_5 (Conv2D)            (None, 4, 4, 512)         2359808   \n",
            "_________________________________________________________________\n",
            "max_pooling2d_5 (MaxPooling2 (None, 2, 2, 512)         0         \n",
            "_________________________________________________________________\n",
            "flatten_1 (Flatten)          (None, 2048)              0         \n",
            "_________________________________________________________________\n",
            "dense_1 (Dense)              (None, 4096)              8392704   \n",
            "_________________________________________________________________\n",
            "dense_2 (Dense)              (None, 10)                40970     \n",
            "=================================================================\n",
            "Total params: 12,343,306\n",
            "Trainable params: 12,343,306\n",
            "Non-trainable params: 0\n",
            "_________________________________________________________________\n"
          ],
          "name": "stdout"
        }
      ]
    },
    {
      "cell_type": "code",
      "metadata": {
        "id": "jyHV3dlnrPvD",
        "colab_type": "code",
        "colab": {
          "base_uri": "https://localhost:8080/",
          "height": 564
        },
        "outputId": "3a7d8549-b9be-4628-ee87-b32b96c91606"
      },
      "source": [
        "history = model.fit(x, y, validation_split=0.1, epochs=15, batch_size=250)"
      ],
      "execution_count": null,
      "outputs": [
        {
          "output_type": "stream",
          "text": [
            "Train on 64840 samples, validate on 7205 samples\n",
            "Epoch 1/15\n",
            "64840/64840 [==============================] - 60s 924us/step - loss: 0.6645 - accuracy: 0.7604 - val_loss: 0.1227 - val_accuracy: 0.9609\n",
            "Epoch 2/15\n",
            "64840/64840 [==============================] - 50s 769us/step - loss: 0.0818 - accuracy: 0.9749 - val_loss: 0.1360 - val_accuracy: 0.9627\n",
            "Epoch 3/15\n",
            "64840/64840 [==============================] - 50s 768us/step - loss: 0.0487 - accuracy: 0.9857 - val_loss: 0.0969 - val_accuracy: 0.9732\n",
            "Epoch 4/15\n",
            "64840/64840 [==============================] - 50s 771us/step - loss: 0.0333 - accuracy: 0.9895 - val_loss: 0.1268 - val_accuracy: 0.9646\n",
            "Epoch 5/15\n",
            "64840/64840 [==============================] - 50s 770us/step - loss: 0.0267 - accuracy: 0.9914 - val_loss: 0.1135 - val_accuracy: 0.9747\n",
            "Epoch 6/15\n",
            "64840/64840 [==============================] - 50s 770us/step - loss: 0.0204 - accuracy: 0.9938 - val_loss: 0.1449 - val_accuracy: 0.9711\n",
            "Epoch 7/15\n",
            "64840/64840 [==============================] - 50s 767us/step - loss: 0.0187 - accuracy: 0.9940 - val_loss: 0.1436 - val_accuracy: 0.9717\n",
            "Epoch 8/15\n",
            "64840/64840 [==============================] - 50s 769us/step - loss: 0.0155 - accuracy: 0.9953 - val_loss: 0.1680 - val_accuracy: 0.9711\n",
            "Epoch 9/15\n",
            "64840/64840 [==============================] - 50s 769us/step - loss: 0.0177 - accuracy: 0.9944 - val_loss: 0.1287 - val_accuracy: 0.9761\n",
            "Epoch 10/15\n",
            "64840/64840 [==============================] - 50s 768us/step - loss: 0.0147 - accuracy: 0.9953 - val_loss: 0.1538 - val_accuracy: 0.9753\n",
            "Epoch 11/15\n",
            "64840/64840 [==============================] - 50s 769us/step - loss: 0.0127 - accuracy: 0.9959 - val_loss: 0.1555 - val_accuracy: 0.9720\n",
            "Epoch 12/15\n",
            "64840/64840 [==============================] - 50s 768us/step - loss: 0.0144 - accuracy: 0.9954 - val_loss: 0.1154 - val_accuracy: 0.9746\n",
            "Epoch 13/15\n",
            "64840/64840 [==============================] - 50s 768us/step - loss: 0.0087 - accuracy: 0.9972 - val_loss: 0.1583 - val_accuracy: 0.9750\n",
            "Epoch 14/15\n",
            "64840/64840 [==============================] - 50s 769us/step - loss: 0.0081 - accuracy: 0.9975 - val_loss: 0.1950 - val_accuracy: 0.9724\n",
            "Epoch 15/15\n",
            "64840/64840 [==============================] - 50s 767us/step - loss: 0.0126 - accuracy: 0.9965 - val_loss: 0.1732 - val_accuracy: 0.9700\n"
          ],
          "name": "stdout"
        }
      ]
    },
    {
      "cell_type": "code",
      "metadata": {
        "id": "E4Hf6mWarPst",
        "colab_type": "code",
        "colab": {
          "base_uri": "https://localhost:8080/",
          "height": 573
        },
        "outputId": "b1bc9494-7463-4618-9462-fa914ab7e547"
      },
      "source": [
        "plt.plot(history.history['loss'])\n",
        "plt.plot(history.history['val_loss'])\n",
        "plt.title('Model loss')\n",
        "plt.ylabel('Loss')\n",
        "plt.xlabel('Epoch')\n",
        "plt.legend(['Train', 'Test'], loc='upper left')\n",
        "plt.show()\n",
        "\n",
        "plt.plot(history.history['accuracy'])\n",
        "plt.plot(history.history['val_accuracy'])\n",
        "plt.title('Model acc')\n",
        "plt.ylabel('acc')\n",
        "plt.xlabel('Epoch')\n",
        "plt.legend(['Train', 'Test'], loc='upper left')\n",
        "plt.show()"
      ],
      "execution_count": null,
      "outputs": [
        {
          "output_type": "display_data",
          "data": {
            "image/png": "[encoded data removed]",
            "text/plain": [
              "<Figure size 432x288 with 1 Axes>"
            ]
          },
          "metadata": {
            "tags": [],
            "needs_background": "light"
          }
        },
        {
          "output_type": "display_data",
          "data": {
            "image/png": "[encoded data removed]",
            "text/plain": [
              "<Figure size 432x288 with 1 Axes>"
            ]
          },
          "metadata": {
            "tags": [],
            "needs_background": "light"
          }
        }
      ]
    },
    {
      "cell_type": "code",
      "metadata": {
        "id": "KcGDuHu-rPpB",
        "colab_type": "code",
        "colab": {}
      },
      "source": [
        "model.save_weights('VGG16_val_accuracy_97.h5')"
      ],
      "execution_count": null,
      "outputs": []
    },
    {
      "cell_type": "code",
      "metadata": {
        "id": "ixCakIKwrnse",
        "colab_type": "code",
        "colab": {}
      },
      "source": [
        "model.save('VGG16_Model.h5')"
      ],
      "execution_count": null,
      "outputs": []
    },
    {
      "cell_type": "code",
      "metadata": {
        "id": "qdU8iOulrnpJ",
        "colab_type": "code",
        "colab": {}
      },
      "source": [
        "all_img = []\n",
        "for i in range(1,10):\n",
        "  img1 = cv2.imread(str(i)+'.PNG',0)\n",
        "  (thresh, im_bw) = cv2.threshold(img1, 128, 255, cv2.THRESH_BINARY | cv2.THRESH_OTSU)\n",
        "  inv = cv2.bitwise_not(im_bw)\n",
        "  all_img.append(cv2.resize(inv, (64,64)))"
      ],
      "execution_count": null,
      "outputs": []
    },
    {
      "cell_type": "code",
      "metadata": {
        "id": "y_yToQa8rnmw",
        "colab_type": "code",
        "colab": {}
      },
      "source": [
        "all_img = np.array(all_img)"
      ],
      "execution_count": null,
      "outputs": []
    },
    {
      "cell_type": "code",
      "metadata": {
        "id": "ut7aOyFarniB",
        "colab_type": "code",
        "colab": {
          "base_uri": "https://localhost:8080/",
          "height": 240
        },
        "outputId": "b1becbd2-9bbf-411c-d15c-02ac2aebb1d0"
      },
      "source": [
        "for i in range(1,10):\n",
        "  plt.subplot(2,5,i)\n",
        "  plt.imshow(all_img[i-1])\n",
        "  plt.title(np.argmax(model.predict(np.reshape(all_img[i-1],(-1,64,64,1)))))"
      ],
      "execution_count": null,
      "outputs": [
        {
          "output_type": "display_data",
          "data": {
            "image/png": "[encoded data removed]",
            "text/plain": [
              "<Figure size 432x288 with 9 Axes>"
            ]
          },
          "metadata": {
            "tags": [],
            "needs_background": "light"
          }
        }
      ]
    }
  ]
}